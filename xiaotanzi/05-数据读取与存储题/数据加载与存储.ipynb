{
 "cells": [
  {
   "cell_type": "markdown",
   "metadata": {},
   "source": [
    " # 1 - 数据加载与存储"
   ]
  },
  {
   "cell_type": "markdown",
   "metadata": {},
   "source": [
    "是的，常常被忽略的「<font color=#E36C07>**数据加载与存储**</font>」也大有门道且值得作为本套习题的开门之章。\n",
    "\n",
    "在一次数据分析的过程中，你可能只会读取或存储一两次数据集。\n",
    "\n",
    "**但若能灵活掌握各项设置，在读取阶段就将数据筛选、匹配、格式指定等操作完成，有时会为我们节省大量时间。**\n",
    "\n",
    "在本节习题中，我将 pandas 数据分析中常见的数据读取与存储操作进行整理。\n",
    "\n",
    "<font color=#E36C07>**既可以用于巩固、学习各种操作，也可以作为速查手册使用**</font>。"
   ]
  },
  {
   "cell_type": "markdown",
   "metadata": {},
   "source": [
    "## 初始化\n"
   ]
  },
  {
   "cell_type": "markdown",
   "metadata": {},
   "source": [
    "## 1-1 数据读取"
   ]
  },
  {
   "cell_type": "markdown",
   "metadata": {},
   "source": [
    "### 1 读取 Excel 文件\n",
    "\n",
    "<br>\n",
    "\n",
    "- 读取当前目录下 `某招聘网站数据.csv` 文件\n",
    "\n",
    "- 读取当前目录下 `TOP250.xlsx` 文件\n",
    "\n",
    "**注意**：使用 `pandas` 读取 `CSV` 与 读取 `xlsx` 格式的 `Excel` 文件方法大致相同\n",
    "\n",
    "因此接下来与 `Excel` 相关的操作均以 `CSV` 格式进行出题。"
   ]
  },
  {
   "cell_type": "code",
   "execution_count": 4,
   "metadata": {},
   "outputs": [],
   "source": [
    "import pandas as pd\n",
    "from pandas import DataFrame, Series\n",
    "df1 = pd.read_csv(\"某招聘网站数据.csv\")\n",
    "df2 = pd.read_excel(\"TOP250.xlsx\")"
   ]
  },
  {
   "cell_type": "code",
   "execution_count": 5,
   "metadata": {},
   "outputs": [
    {
     "data": {
      "text/html": [
       "<div>\n",
       "<style scoped>\n",
       "    .dataframe tbody tr th:only-of-type {\n",
       "        vertical-align: middle;\n",
       "    }\n",
       "\n",
       "    .dataframe tbody tr th {\n",
       "        vertical-align: top;\n",
       "    }\n",
       "\n",
       "    .dataframe thead th {\n",
       "        text-align: right;\n",
       "    }\n",
       "</style>\n",
       "<table border=\"1\" class=\"dataframe\">\n",
       "  <thead>\n",
       "    <tr style=\"text-align: right;\">\n",
       "      <th></th>\n",
       "      <th>positionId</th>\n",
       "      <th>positionName</th>\n",
       "      <th>companyId</th>\n",
       "      <th>companySize</th>\n",
       "      <th>industryField</th>\n",
       "      <th>financeStage</th>\n",
       "      <th>companyLabelList</th>\n",
       "      <th>firstType</th>\n",
       "      <th>secondType</th>\n",
       "      <th>thirdType</th>\n",
       "      <th>...</th>\n",
       "      <th>plus</th>\n",
       "      <th>pcShow</th>\n",
       "      <th>appShow</th>\n",
       "      <th>deliver</th>\n",
       "      <th>gradeDescription</th>\n",
       "      <th>promotionScoreExplain</th>\n",
       "      <th>isHotHire</th>\n",
       "      <th>count</th>\n",
       "      <th>aggregatePositionIds</th>\n",
       "      <th>famousCompany</th>\n",
       "    </tr>\n",
       "  </thead>\n",
       "  <tbody>\n",
       "    <tr>\n",
       "      <th>0</th>\n",
       "      <td>6802721</td>\n",
       "      <td>数据分析</td>\n",
       "      <td>475770</td>\n",
       "      <td>50-150人</td>\n",
       "      <td>移动互联网,电商</td>\n",
       "      <td>A轮</td>\n",
       "      <td>['绩效奖金', '带薪年假', '定期体检', '弹性工作']</td>\n",
       "      <td>产品|需求|项目类</td>\n",
       "      <td>数据分析</td>\n",
       "      <td>数据分析</td>\n",
       "      <td>...</td>\n",
       "      <td>NaN</td>\n",
       "      <td>0</td>\n",
       "      <td>0</td>\n",
       "      <td>0</td>\n",
       "      <td>NaN</td>\n",
       "      <td>NaN</td>\n",
       "      <td>0</td>\n",
       "      <td>0</td>\n",
       "      <td>[]</td>\n",
       "      <td>False</td>\n",
       "    </tr>\n",
       "    <tr>\n",
       "      <th>1</th>\n",
       "      <td>5204912</td>\n",
       "      <td>数据建模</td>\n",
       "      <td>50735</td>\n",
       "      <td>150-500人</td>\n",
       "      <td>电商</td>\n",
       "      <td>B轮</td>\n",
       "      <td>['年终奖金', '做五休二', '六险一金', '子女福利']</td>\n",
       "      <td>开发|测试|运维类</td>\n",
       "      <td>数据开发</td>\n",
       "      <td>建模</td>\n",
       "      <td>...</td>\n",
       "      <td>NaN</td>\n",
       "      <td>0</td>\n",
       "      <td>0</td>\n",
       "      <td>0</td>\n",
       "      <td>NaN</td>\n",
       "      <td>NaN</td>\n",
       "      <td>0</td>\n",
       "      <td>0</td>\n",
       "      <td>[]</td>\n",
       "      <td>False</td>\n",
       "    </tr>\n",
       "    <tr>\n",
       "      <th>2</th>\n",
       "      <td>6877668</td>\n",
       "      <td>数据分析</td>\n",
       "      <td>100125</td>\n",
       "      <td>2000人以上</td>\n",
       "      <td>移动互联网,企业服务</td>\n",
       "      <td>上市公司</td>\n",
       "      <td>['节日礼物', '年底双薪', '股票期权', '带薪年假']</td>\n",
       "      <td>产品|需求|项目类</td>\n",
       "      <td>数据分析</td>\n",
       "      <td>数据分析</td>\n",
       "      <td>...</td>\n",
       "      <td>NaN</td>\n",
       "      <td>0</td>\n",
       "      <td>0</td>\n",
       "      <td>0</td>\n",
       "      <td>NaN</td>\n",
       "      <td>NaN</td>\n",
       "      <td>0</td>\n",
       "      <td>0</td>\n",
       "      <td>[]</td>\n",
       "      <td>False</td>\n",
       "    </tr>\n",
       "    <tr>\n",
       "      <th>3</th>\n",
       "      <td>6496141</td>\n",
       "      <td>数据分析</td>\n",
       "      <td>26564</td>\n",
       "      <td>500-2000人</td>\n",
       "      <td>电商</td>\n",
       "      <td>D轮及以上</td>\n",
       "      <td>['生日趴', '每月腐败基金', '每月补贴', '年度旅游']</td>\n",
       "      <td>开发|测试|运维类</td>\n",
       "      <td>数据开发</td>\n",
       "      <td>数据分析</td>\n",
       "      <td>...</td>\n",
       "      <td>NaN</td>\n",
       "      <td>0</td>\n",
       "      <td>0</td>\n",
       "      <td>0</td>\n",
       "      <td>NaN</td>\n",
       "      <td>NaN</td>\n",
       "      <td>0</td>\n",
       "      <td>0</td>\n",
       "      <td>[]</td>\n",
       "      <td>True</td>\n",
       "    </tr>\n",
       "    <tr>\n",
       "      <th>4</th>\n",
       "      <td>6467417</td>\n",
       "      <td>数据分析</td>\n",
       "      <td>29211</td>\n",
       "      <td>2000人以上</td>\n",
       "      <td>物流丨运输</td>\n",
       "      <td>上市公司</td>\n",
       "      <td>['技能培训', '免费班车', '专项奖金', '岗位晋升']</td>\n",
       "      <td>产品|需求|项目类</td>\n",
       "      <td>数据分析</td>\n",
       "      <td>数据分析</td>\n",
       "      <td>...</td>\n",
       "      <td>NaN</td>\n",
       "      <td>0</td>\n",
       "      <td>0</td>\n",
       "      <td>0</td>\n",
       "      <td>NaN</td>\n",
       "      <td>NaN</td>\n",
       "      <td>0</td>\n",
       "      <td>0</td>\n",
       "      <td>[]</td>\n",
       "      <td>True</td>\n",
       "    </tr>\n",
       "    <tr>\n",
       "      <th>...</th>\n",
       "      <td>...</td>\n",
       "      <td>...</td>\n",
       "      <td>...</td>\n",
       "      <td>...</td>\n",
       "      <td>...</td>\n",
       "      <td>...</td>\n",
       "      <td>...</td>\n",
       "      <td>...</td>\n",
       "      <td>...</td>\n",
       "      <td>...</td>\n",
       "      <td>...</td>\n",
       "      <td>...</td>\n",
       "      <td>...</td>\n",
       "      <td>...</td>\n",
       "      <td>...</td>\n",
       "      <td>...</td>\n",
       "      <td>...</td>\n",
       "      <td>...</td>\n",
       "      <td>...</td>\n",
       "      <td>...</td>\n",
       "      <td>...</td>\n",
       "    </tr>\n",
       "    <tr>\n",
       "      <th>100</th>\n",
       "      <td>6884346</td>\n",
       "      <td>数据分析师</td>\n",
       "      <td>21236</td>\n",
       "      <td>500-2000人</td>\n",
       "      <td>移动互联网,医疗丨健康</td>\n",
       "      <td>C轮</td>\n",
       "      <td>['技能培训', '年底双薪', '节日礼物', '绩效奖金']</td>\n",
       "      <td>产品|需求|项目类</td>\n",
       "      <td>数据分析</td>\n",
       "      <td>数据分析</td>\n",
       "      <td>...</td>\n",
       "      <td>NaN</td>\n",
       "      <td>0</td>\n",
       "      <td>0</td>\n",
       "      <td>0</td>\n",
       "      <td>NaN</td>\n",
       "      <td>NaN</td>\n",
       "      <td>0</td>\n",
       "      <td>0</td>\n",
       "      <td>[]</td>\n",
       "      <td>False</td>\n",
       "    </tr>\n",
       "    <tr>\n",
       "      <th>101</th>\n",
       "      <td>6849100</td>\n",
       "      <td>商业数据分析</td>\n",
       "      <td>72076</td>\n",
       "      <td>500-2000人</td>\n",
       "      <td>移动互联网,电商</td>\n",
       "      <td>C轮</td>\n",
       "      <td>['节日礼物', '股票期权', '带薪年假', '年度旅游']</td>\n",
       "      <td>市场|商务类</td>\n",
       "      <td>市场|营销</td>\n",
       "      <td>商业数据分析</td>\n",
       "      <td>...</td>\n",
       "      <td>NaN</td>\n",
       "      <td>0</td>\n",
       "      <td>0</td>\n",
       "      <td>0</td>\n",
       "      <td>NaN</td>\n",
       "      <td>NaN</td>\n",
       "      <td>0</td>\n",
       "      <td>0</td>\n",
       "      <td>[]</td>\n",
       "      <td>False</td>\n",
       "    </tr>\n",
       "    <tr>\n",
       "      <th>102</th>\n",
       "      <td>6803432</td>\n",
       "      <td>奔驰·耀出行-BI数据分析专家</td>\n",
       "      <td>751158</td>\n",
       "      <td>150-500人</td>\n",
       "      <td>移动互联网</td>\n",
       "      <td>不需要融资</td>\n",
       "      <td>[]</td>\n",
       "      <td>开发|测试|运维类</td>\n",
       "      <td>数据开发</td>\n",
       "      <td>数据分析</td>\n",
       "      <td>...</td>\n",
       "      <td>NaN</td>\n",
       "      <td>0</td>\n",
       "      <td>0</td>\n",
       "      <td>0</td>\n",
       "      <td>NaN</td>\n",
       "      <td>NaN</td>\n",
       "      <td>0</td>\n",
       "      <td>0</td>\n",
       "      <td>[]</td>\n",
       "      <td>False</td>\n",
       "    </tr>\n",
       "    <tr>\n",
       "      <th>103</th>\n",
       "      <td>6704835</td>\n",
       "      <td>BI数据分析师</td>\n",
       "      <td>52840</td>\n",
       "      <td>2000人以上</td>\n",
       "      <td>电商</td>\n",
       "      <td>上市公司</td>\n",
       "      <td>['技能培训', '年底双薪', '节日礼物', '绩效奖金']</td>\n",
       "      <td>开发|测试|运维类</td>\n",
       "      <td>数据开发</td>\n",
       "      <td>数据分析</td>\n",
       "      <td>...</td>\n",
       "      <td>NaN</td>\n",
       "      <td>0</td>\n",
       "      <td>0</td>\n",
       "      <td>0</td>\n",
       "      <td>NaN</td>\n",
       "      <td>NaN</td>\n",
       "      <td>0</td>\n",
       "      <td>0</td>\n",
       "      <td>[]</td>\n",
       "      <td>True</td>\n",
       "    </tr>\n",
       "    <tr>\n",
       "      <th>104</th>\n",
       "      <td>6728058</td>\n",
       "      <td>数据分析专家-LQ(J181203029)</td>\n",
       "      <td>2474</td>\n",
       "      <td>2000人以上</td>\n",
       "      <td>汽车丨出行</td>\n",
       "      <td>不需要融资</td>\n",
       "      <td>['弹性工作', '节日礼物', '岗位晋升', '技能培训']</td>\n",
       "      <td>产品|需求|项目类</td>\n",
       "      <td>数据分析</td>\n",
       "      <td>其他数据分析</td>\n",
       "      <td>...</td>\n",
       "      <td>NaN</td>\n",
       "      <td>0</td>\n",
       "      <td>0</td>\n",
       "      <td>0</td>\n",
       "      <td>NaN</td>\n",
       "      <td>NaN</td>\n",
       "      <td>0</td>\n",
       "      <td>0</td>\n",
       "      <td>[]</td>\n",
       "      <td>True</td>\n",
       "    </tr>\n",
       "  </tbody>\n",
       "</table>\n",
       "<p>105 rows × 52 columns</p>\n",
       "</div>"
      ],
      "text/plain": [
       "     positionId           positionName  companyId companySize industryField  \\\n",
       "0       6802721                   数据分析     475770     50-150人      移动互联网,电商   \n",
       "1       5204912                   数据建模      50735    150-500人            电商   \n",
       "2       6877668                   数据分析     100125     2000人以上    移动互联网,企业服务   \n",
       "3       6496141                   数据分析      26564   500-2000人            电商   \n",
       "4       6467417                   数据分析      29211     2000人以上         物流丨运输   \n",
       "..          ...                    ...        ...         ...           ...   \n",
       "100     6884346                  数据分析师      21236   500-2000人   移动互联网,医疗丨健康   \n",
       "101     6849100                 商业数据分析      72076   500-2000人      移动互联网,电商   \n",
       "102     6803432        奔驰·耀出行-BI数据分析专家     751158    150-500人         移动互联网   \n",
       "103     6704835                BI数据分析师      52840     2000人以上            电商   \n",
       "104     6728058  数据分析专家-LQ(J181203029)       2474     2000人以上         汽车丨出行   \n",
       "\n",
       "    financeStage                   companyLabelList  firstType secondType  \\\n",
       "0             A轮   ['绩效奖金', '带薪年假', '定期体检', '弹性工作']  产品|需求|项目类       数据分析   \n",
       "1             B轮   ['年终奖金', '做五休二', '六险一金', '子女福利']  开发|测试|运维类       数据开发   \n",
       "2           上市公司   ['节日礼物', '年底双薪', '股票期权', '带薪年假']  产品|需求|项目类       数据分析   \n",
       "3          D轮及以上  ['生日趴', '每月腐败基金', '每月补贴', '年度旅游']  开发|测试|运维类       数据开发   \n",
       "4           上市公司   ['技能培训', '免费班车', '专项奖金', '岗位晋升']  产品|需求|项目类       数据分析   \n",
       "..           ...                                ...        ...        ...   \n",
       "100           C轮   ['技能培训', '年底双薪', '节日礼物', '绩效奖金']  产品|需求|项目类       数据分析   \n",
       "101           C轮   ['节日礼物', '股票期权', '带薪年假', '年度旅游']     市场|商务类      市场|营销   \n",
       "102        不需要融资                                 []  开发|测试|运维类       数据开发   \n",
       "103         上市公司   ['技能培训', '年底双薪', '节日礼物', '绩效奖金']  开发|测试|运维类       数据开发   \n",
       "104        不需要融资   ['弹性工作', '节日礼物', '岗位晋升', '技能培训']  产品|需求|项目类       数据分析   \n",
       "\n",
       "    thirdType  ... plus pcShow appShow deliver gradeDescription  \\\n",
       "0        数据分析  ...  NaN      0       0       0              NaN   \n",
       "1          建模  ...  NaN      0       0       0              NaN   \n",
       "2        数据分析  ...  NaN      0       0       0              NaN   \n",
       "3        数据分析  ...  NaN      0       0       0              NaN   \n",
       "4        数据分析  ...  NaN      0       0       0              NaN   \n",
       "..        ...  ...  ...    ...     ...     ...              ...   \n",
       "100      数据分析  ...  NaN      0       0       0              NaN   \n",
       "101    商业数据分析  ...  NaN      0       0       0              NaN   \n",
       "102      数据分析  ...  NaN      0       0       0              NaN   \n",
       "103      数据分析  ...  NaN      0       0       0              NaN   \n",
       "104    其他数据分析  ...  NaN      0       0       0              NaN   \n",
       "\n",
       "    promotionScoreExplain isHotHire  count aggregatePositionIds famousCompany  \n",
       "0                     NaN         0      0                   []         False  \n",
       "1                     NaN         0      0                   []         False  \n",
       "2                     NaN         0      0                   []         False  \n",
       "3                     NaN         0      0                   []          True  \n",
       "4                     NaN         0      0                   []          True  \n",
       "..                    ...       ...    ...                  ...           ...  \n",
       "100                   NaN         0      0                   []         False  \n",
       "101                   NaN         0      0                   []         False  \n",
       "102                   NaN         0      0                   []         False  \n",
       "103                   NaN         0      0                   []          True  \n",
       "104                   NaN         0      0                   []          True  \n",
       "\n",
       "[105 rows x 52 columns]"
      ]
     },
     "execution_count": 5,
     "metadata": {},
     "output_type": "execute_result"
    }
   ],
   "source": [
    "df1"
   ]
  },
  {
   "cell_type": "code",
   "execution_count": 6,
   "metadata": {},
   "outputs": [
    {
     "data": {
      "text/html": [
       "<div>\n",
       "<style scoped>\n",
       "    .dataframe tbody tr th:only-of-type {\n",
       "        vertical-align: middle;\n",
       "    }\n",
       "\n",
       "    .dataframe tbody tr th {\n",
       "        vertical-align: top;\n",
       "    }\n",
       "\n",
       "    .dataframe thead th {\n",
       "        text-align: right;\n",
       "    }\n",
       "</style>\n",
       "<table border=\"1\" class=\"dataframe\">\n",
       "  <thead>\n",
       "    <tr style=\"text-align: right;\">\n",
       "      <th></th>\n",
       "      <th>片名</th>\n",
       "      <th>上映年份</th>\n",
       "      <th>评分</th>\n",
       "      <th>评价人数</th>\n",
       "      <th>导演</th>\n",
       "      <th>编剧</th>\n",
       "      <th>主演</th>\n",
       "      <th>类型</th>\n",
       "      <th>国家/地区</th>\n",
       "      <th>语言</th>\n",
       "      <th>时长(分钟)</th>\n",
       "    </tr>\n",
       "  </thead>\n",
       "  <tbody>\n",
       "    <tr>\n",
       "      <th>0</th>\n",
       "      <td>肖申克的救赎</td>\n",
       "      <td>1994</td>\n",
       "      <td>9.7</td>\n",
       "      <td>2317937</td>\n",
       "      <td>弗兰克·德拉邦特</td>\n",
       "      <td>弗兰克·德拉邦特 / 斯蒂芬·金</td>\n",
       "      <td>蒂姆·罗宾斯 / 摩根·弗里曼 / 鲍勃·冈顿 / 威廉姆·赛德勒 / 克兰西·布朗 / 吉...</td>\n",
       "      <td>剧情 / 犯罪</td>\n",
       "      <td>美国</td>\n",
       "      <td>英语</td>\n",
       "      <td>142</td>\n",
       "    </tr>\n",
       "    <tr>\n",
       "      <th>1</th>\n",
       "      <td>霸王别姬</td>\n",
       "      <td>1993</td>\n",
       "      <td>9.6</td>\n",
       "      <td>1720638</td>\n",
       "      <td>陈凯歌</td>\n",
       "      <td>芦苇 / 李碧华</td>\n",
       "      <td>张国荣 / 张丰毅 / 巩俐 / 葛优 / 英达 / 蒋雯丽 / 吴大维 / 吕齐 / 雷汉...</td>\n",
       "      <td>剧情 / 爱情 / 同性</td>\n",
       "      <td>中国</td>\n",
       "      <td>汉语普通话</td>\n",
       "      <td>171</td>\n",
       "    </tr>\n",
       "    <tr>\n",
       "      <th>2</th>\n",
       "      <td>阿甘正传</td>\n",
       "      <td>1994</td>\n",
       "      <td>9.5</td>\n",
       "      <td>1743966</td>\n",
       "      <td>罗伯特·泽米吉斯</td>\n",
       "      <td>艾瑞克·罗斯 / 温斯顿·格鲁姆</td>\n",
       "      <td>汤姆·汉克斯 / 罗宾·怀特 / 加里·西尼斯 / 麦凯尔泰·威廉逊 / 莎莉·菲尔德 / ...</td>\n",
       "      <td>剧情 / 爱情</td>\n",
       "      <td>美国</td>\n",
       "      <td>英语</td>\n",
       "      <td>142</td>\n",
       "    </tr>\n",
       "    <tr>\n",
       "      <th>3</th>\n",
       "      <td>这个杀手不太冷</td>\n",
       "      <td>1994</td>\n",
       "      <td>9.4</td>\n",
       "      <td>1922740</td>\n",
       "      <td>吕克·贝松</td>\n",
       "      <td>吕克·贝松</td>\n",
       "      <td>让·雷诺 / 娜塔莉·波特曼 / 加里·奥德曼 / 丹尼·爱罗 / 彼得·阿佩尔 / 迈克尔...</td>\n",
       "      <td>剧情 / 动作 / 犯罪</td>\n",
       "      <td>法国</td>\n",
       "      <td>英语</td>\n",
       "      <td>110</td>\n",
       "    </tr>\n",
       "    <tr>\n",
       "      <th>4</th>\n",
       "      <td>泰坦尼克号</td>\n",
       "      <td>1997</td>\n",
       "      <td>9.4</td>\n",
       "      <td>1706127</td>\n",
       "      <td>詹姆斯·卡梅隆</td>\n",
       "      <td>詹姆斯·卡梅隆</td>\n",
       "      <td>莱昂纳多·迪卡普里奥 / 凯特·温丝莱特 / 比利·赞恩 / 凯西·贝茨 / 弗兰西丝·费舍...</td>\n",
       "      <td>剧情 / 爱情 / 灾难</td>\n",
       "      <td>美国</td>\n",
       "      <td>英语</td>\n",
       "      <td>194</td>\n",
       "    </tr>\n",
       "    <tr>\n",
       "      <th>...</th>\n",
       "      <td>...</td>\n",
       "      <td>...</td>\n",
       "      <td>...</td>\n",
       "      <td>...</td>\n",
       "      <td>...</td>\n",
       "      <td>...</td>\n",
       "      <td>...</td>\n",
       "      <td>...</td>\n",
       "      <td>...</td>\n",
       "      <td>...</td>\n",
       "      <td>...</td>\n",
       "    </tr>\n",
       "    <tr>\n",
       "      <th>245</th>\n",
       "      <td>浪潮</td>\n",
       "      <td>2008</td>\n",
       "      <td>8.7</td>\n",
       "      <td>223511</td>\n",
       "      <td>丹尼斯·甘塞尔</td>\n",
       "      <td>丹尼斯·甘塞尔 / 彼得·图万斯 / 约翰尼·道金斯 / 罗恩·比恩巴赫 / 罗恩·琼斯</td>\n",
       "      <td>于尔根·福格尔 / 弗雷德里克·劳 / 马克思·雷迈特 / 詹妮弗·乌尔里希 / 克里斯蒂安...</td>\n",
       "      <td>剧情 / 惊悚</td>\n",
       "      <td>德国</td>\n",
       "      <td>德语</td>\n",
       "      <td>107</td>\n",
       "    </tr>\n",
       "    <tr>\n",
       "      <th>246</th>\n",
       "      <td>小萝莉的猴神大叔</td>\n",
       "      <td>2015</td>\n",
       "      <td>8.4</td>\n",
       "      <td>404886</td>\n",
       "      <td>卡比尔·汗</td>\n",
       "      <td>卡比尔·汗 / 维杰耶德拉·普拉萨德</td>\n",
       "      <td>萨尔曼·汗 / 哈莎莉·马洛特拉 / 卡琳娜·卡普尔 / 纳瓦祖丁·席迪圭 / 欧姆·普瑞 ...</td>\n",
       "      <td>剧情 / 喜剧 / 动作</td>\n",
       "      <td>印度</td>\n",
       "      <td>印地语</td>\n",
       "      <td>159</td>\n",
       "    </tr>\n",
       "    <tr>\n",
       "      <th>247</th>\n",
       "      <td>追随</td>\n",
       "      <td>1998</td>\n",
       "      <td>8.9</td>\n",
       "      <td>149521</td>\n",
       "      <td>克里斯托弗·诺兰</td>\n",
       "      <td>克里斯托弗·诺兰</td>\n",
       "      <td>杰里米·西奥伯德 / 亚历克斯·霍 / 露西·拉塞尔 / 约翰·诺兰 / 迪克·布拉德塞尔 ...</td>\n",
       "      <td>悬疑 / 惊悚 / 犯罪</td>\n",
       "      <td>英国</td>\n",
       "      <td>英语</td>\n",
       "      <td>69</td>\n",
       "    </tr>\n",
       "    <tr>\n",
       "      <th>248</th>\n",
       "      <td>网络谜踪</td>\n",
       "      <td>2018</td>\n",
       "      <td>8.6</td>\n",
       "      <td>430811</td>\n",
       "      <td>阿尼什·查甘蒂</td>\n",
       "      <td>阿尼什·查甘蒂 / 赛弗·奥哈尼安</td>\n",
       "      <td>约翰·赵 / 米切尔·拉 / 黛博拉·梅辛 / 约瑟夫·李 / 萨拉·米博·孙 / 亚历克丝...</td>\n",
       "      <td>剧情 / 悬疑 / 惊悚 / 犯罪</td>\n",
       "      <td>美国</td>\n",
       "      <td>英语</td>\n",
       "      <td>102</td>\n",
       "    </tr>\n",
       "    <tr>\n",
       "      <th>249</th>\n",
       "      <td>黑鹰坠落</td>\n",
       "      <td>2001</td>\n",
       "      <td>8.7</td>\n",
       "      <td>239402</td>\n",
       "      <td>雷德利·斯科特</td>\n",
       "      <td>肯·诺兰 / 马克·鲍登</td>\n",
       "      <td>乔什·哈奈特 / 伊万·麦克格雷格 / 汤姆·塞兹摩尔 / 金·寇兹 / 艾文·布莱纳 / ...</td>\n",
       "      <td>动作 / 历史 / 战争</td>\n",
       "      <td>美国</td>\n",
       "      <td>英语</td>\n",
       "      <td>144</td>\n",
       "    </tr>\n",
       "  </tbody>\n",
       "</table>\n",
       "<p>250 rows × 11 columns</p>\n",
       "</div>"
      ],
      "text/plain": [
       "           片名  上映年份   评分     评价人数        导演  \\\n",
       "0      肖申克的救赎  1994  9.7  2317937  弗兰克·德拉邦特   \n",
       "1        霸王别姬  1993  9.6  1720638       陈凯歌   \n",
       "2        阿甘正传  1994  9.5  1743966  罗伯特·泽米吉斯   \n",
       "3     这个杀手不太冷  1994  9.4  1922740     吕克·贝松   \n",
       "4       泰坦尼克号  1997  9.4  1706127   詹姆斯·卡梅隆   \n",
       "..        ...   ...  ...      ...       ...   \n",
       "245        浪潮  2008  8.7   223511   丹尼斯·甘塞尔   \n",
       "246  小萝莉的猴神大叔  2015  8.4   404886     卡比尔·汗   \n",
       "247        追随  1998  8.9   149521  克里斯托弗·诺兰   \n",
       "248      网络谜踪  2018  8.6   430811   阿尼什·查甘蒂   \n",
       "249      黑鹰坠落  2001  8.7   239402   雷德利·斯科特   \n",
       "\n",
       "                                               编剧  \\\n",
       "0                                弗兰克·德拉邦特 / 斯蒂芬·金   \n",
       "1                                        芦苇 / 李碧华   \n",
       "2                                艾瑞克·罗斯 / 温斯顿·格鲁姆   \n",
       "3                                           吕克·贝松   \n",
       "4                                         詹姆斯·卡梅隆   \n",
       "..                                            ...   \n",
       "245  丹尼斯·甘塞尔 / 彼得·图万斯 / 约翰尼·道金斯 / 罗恩·比恩巴赫 / 罗恩·琼斯   \n",
       "246                            卡比尔·汗 / 维杰耶德拉·普拉萨德   \n",
       "247                                      克里斯托弗·诺兰   \n",
       "248                             阿尼什·查甘蒂 / 赛弗·奥哈尼安   \n",
       "249                                  肯·诺兰 / 马克·鲍登   \n",
       "\n",
       "                                                    主演                 类型  \\\n",
       "0    蒂姆·罗宾斯 / 摩根·弗里曼 / 鲍勃·冈顿 / 威廉姆·赛德勒 / 克兰西·布朗 / 吉...            剧情 / 犯罪   \n",
       "1    张国荣 / 张丰毅 / 巩俐 / 葛优 / 英达 / 蒋雯丽 / 吴大维 / 吕齐 / 雷汉...       剧情 / 爱情 / 同性   \n",
       "2    汤姆·汉克斯 / 罗宾·怀特 / 加里·西尼斯 / 麦凯尔泰·威廉逊 / 莎莉·菲尔德 / ...            剧情 / 爱情   \n",
       "3    让·雷诺 / 娜塔莉·波特曼 / 加里·奥德曼 / 丹尼·爱罗 / 彼得·阿佩尔 / 迈克尔...       剧情 / 动作 / 犯罪   \n",
       "4    莱昂纳多·迪卡普里奥 / 凯特·温丝莱特 / 比利·赞恩 / 凯西·贝茨 / 弗兰西丝·费舍...       剧情 / 爱情 / 灾难   \n",
       "..                                                 ...                ...   \n",
       "245  于尔根·福格尔 / 弗雷德里克·劳 / 马克思·雷迈特 / 詹妮弗·乌尔里希 / 克里斯蒂安...            剧情 / 惊悚   \n",
       "246  萨尔曼·汗 / 哈莎莉·马洛特拉 / 卡琳娜·卡普尔 / 纳瓦祖丁·席迪圭 / 欧姆·普瑞 ...       剧情 / 喜剧 / 动作   \n",
       "247  杰里米·西奥伯德 / 亚历克斯·霍 / 露西·拉塞尔 / 约翰·诺兰 / 迪克·布拉德塞尔 ...       悬疑 / 惊悚 / 犯罪   \n",
       "248  约翰·赵 / 米切尔·拉 / 黛博拉·梅辛 / 约瑟夫·李 / 萨拉·米博·孙 / 亚历克丝...  剧情 / 悬疑 / 惊悚 / 犯罪   \n",
       "249  乔什·哈奈特 / 伊万·麦克格雷格 / 汤姆·塞兹摩尔 / 金·寇兹 / 艾文·布莱纳 / ...       动作 / 历史 / 战争   \n",
       "\n",
       "    国家/地区     语言  时长(分钟)  \n",
       "0      美国     英语     142  \n",
       "1      中国  汉语普通话     171  \n",
       "2      美国     英语     142  \n",
       "3      法国    英语      110  \n",
       "4      美国    英语      194  \n",
       "..    ...    ...     ...  \n",
       "245    德国     德语     107  \n",
       "246    印度   印地语      159  \n",
       "247    英国     英语      69  \n",
       "248    美国     英语     102  \n",
       "249    美国    英语      144  \n",
       "\n",
       "[250 rows x 11 columns]"
      ]
     },
     "execution_count": 6,
     "metadata": {},
     "output_type": "execute_result"
    }
   ],
   "source": [
    "df2"
   ]
  },
  {
   "cell_type": "code",
   "execution_count": null,
   "metadata": {},
   "outputs": [],
   "source": []
  },
  {
   "cell_type": "markdown",
   "metadata": {},
   "source": [
    "###  3 读取 Excel 文件｜指定行（顺序）\n",
    "<br>\n",
    "\n",
    "读取当前目录下 `某招聘网站数据.csv` 文件的 <font color = '#5F5FFC'>前20行</font>"
   ]
  },
  {
   "cell_type": "code",
   "execution_count": null,
   "metadata": {},
   "outputs": [],
   "source": []
  },
  {
   "cell_type": "markdown",
   "metadata": {},
   "source": [
    "###  4 读取 Excel 文件｜指定行（跳过）\n",
    "<br>\n",
    "\n",
    "读取当前目录下 `某招聘网站数据.csv` 文件并<font color = '#5F5FFC'>跳过前20行</font>"
   ]
  },
  {
   "cell_type": "code",
   "execution_count": null,
   "metadata": {},
   "outputs": [],
   "source": []
  },
  {
   "cell_type": "markdown",
   "metadata": {},
   "source": [
    "###  5 读取 Excel 文件｜指定行（条件）\n",
    "<br>\n",
    "\n",
    "读取当前目录下 `某招聘网站数据.csv` 文件中全部<font color = '#5F5FFC'>偶数行</font>\n",
    "\n",
    "思考：如果是读取全部奇数行，或者更多满足指定条件的行呢？"
   ]
  },
  {
   "cell_type": "code",
   "execution_count": null,
   "metadata": {},
   "outputs": [],
   "source": []
  },
  {
   "cell_type": "markdown",
   "metadata": {},
   "source": [
    "### 6 读取 Excel 文件｜指定列（列号）\n",
    "\n",
    "<br>\n",
    "\n",
    "**根据指定列号读取**\n",
    "\n",
    "读取当前目录下 `某招聘网站数据.csv` 文件的第 `1、3、5` 列"
   ]
  },
  {
   "cell_type": "code",
   "execution_count": null,
   "metadata": {},
   "outputs": [],
   "source": []
  },
  {
   "cell_type": "markdown",
   "metadata": {},
   "source": [
    "###  7 读取 Excel 文件｜指定列（列名）\n",
    "\n",
    "<br>\n",
    "\n",
    "**根据指定列名读取**\n",
    "\n",
    "读取当前目录下 `某招聘网站数据.csv` 文件的 `positionId、positionName、salary` 列"
   ]
  },
  {
   "cell_type": "code",
   "execution_count": null,
   "metadata": {},
   "outputs": [],
   "source": []
  },
  {
   "cell_type": "markdown",
   "metadata": {},
   "source": [
    "###  8 读取 Excel 文件｜指定列（匹配）\n",
    "\n",
    "<br>\n",
    "\n",
    "**根据指定列名匹配读取**\n",
    "\n",
    "让我们来个更难一点的，还是读取 `某招聘网站数据.csv` 文件，但现在有一个 list 中包含多个字段👇\n",
    "\n",
    "`usecols = ['positionId','test','positionName', 'test1','salary']`\n",
    "\n",
    "如果 `usecols` 中的列名存在于 `某招聘网站数据.csv` 中，则读取。"
   ]
  },
  {
   "cell_type": "code",
   "execution_count": null,
   "metadata": {},
   "outputs": [],
   "source": []
  },
  {
   "cell_type": "markdown",
   "metadata": {},
   "source": [
    "### 9 读取 Excel 文件｜指定索引\n",
    "\n",
    "<br>\n",
    "\n",
    "读取当前目录下 `某招聘网站数据.csv` 文件，并在读取时将 `positionId` 设置为索引列"
   ]
  },
  {
   "cell_type": "code",
   "execution_count": null,
   "metadata": {},
   "outputs": [],
   "source": []
  },
  {
   "cell_type": "markdown",
   "metadata": {},
   "source": [
    "###  10 读取 Excel 文件｜指定标题\n",
    "\n",
    "<br>\n",
    "\n",
    "\n",
    "读取当前目录下 `某招聘网站数据.csv` 文件的 `positionId、positionName、salary` 列，并将标题设置为 `ID、岗位名称、薪资`"
   ]
  },
  {
   "cell_type": "code",
   "execution_count": null,
   "metadata": {},
   "outputs": [],
   "source": []
  },
  {
   "cell_type": "markdown",
   "metadata": {},
   "source": [
    "###  11 读取 Excel 文件｜缺失值转换\n",
    "\n",
    "<br>\n",
    "\n",
    "\n",
    "读取当前目录下 `某招聘网站数据.csv` 文件，**并不将缺失值标记为 `NA`**\n",
    "\n",
    "思考：为什么要这样做？"
   ]
  },
  {
   "cell_type": "code",
   "execution_count": null,
   "metadata": {},
   "outputs": [],
   "source": []
  },
  {
   "cell_type": "markdown",
   "metadata": {},
   "source": [
    "###  12 读取 Excel 文件｜缺失值标记\n",
    "\n",
    "<br>\n",
    "\n",
    "\n",
    "读取当前目录下 `某招聘网站数据.csv` 文件，**并将`[]`标记为缺失值**\n"
   ]
  },
  {
   "cell_type": "code",
   "execution_count": null,
   "metadata": {},
   "outputs": [],
   "source": []
  },
  {
   "cell_type": "markdown",
   "metadata": {},
   "source": [
    "### 13 读取 Excel 文件｜忽略缺失值\n",
    "\n",
    "<br>\n",
    "\n",
    "读取当前目录下 `某招聘网站数据.csv` 文件，**但不处理缺失值**\n",
    "\n",
    "思考：和之前的有什么不同，为什么这么做？"
   ]
  },
  {
   "cell_type": "code",
   "execution_count": null,
   "metadata": {},
   "outputs": [],
   "source": []
  },
  {
   "cell_type": "markdown",
   "metadata": {},
   "source": [
    "### 14 读取 Excel 文件｜指定格式\n",
    "\n",
    "<br>\n",
    "\n",
    "读取当前目录下 `某招聘网站数据.csv` 文件，并将 `positionId,companyId` 设置为字符串格式"
   ]
  },
  {
   "cell_type": "code",
   "execution_count": null,
   "metadata": {},
   "outputs": [],
   "source": []
  },
  {
   "cell_type": "markdown",
   "metadata": {},
   "source": [
    "### 15 读取 Excel 文件｜指定格式（时间）\n",
    "\n",
    "<br>\n",
    "\n",
    "读取当前目录下 `某招聘网站数据.csv` 文件，并将 `createTime` 列设置为字符串格式"
   ]
  },
  {
   "cell_type": "code",
   "execution_count": 49,
   "metadata": {},
   "outputs": [],
   "source": []
  },
  {
   "cell_type": "markdown",
   "metadata": {},
   "source": [
    "### 16 读取 Excel 文件｜分块读取\n",
    "\n",
    "\n",
    "<br>\n",
    "\n",
    "读取当前目录下 `某招聘网站数据.csv` 文件，要求返回一个可迭代对象，每次读取 10 行\n",
    "\n",
    "思考：为什么这样做？"
   ]
  },
  {
   "cell_type": "code",
   "execution_count": 58,
   "metadata": {},
   "outputs": [],
   "source": []
  },
  {
   "cell_type": "markdown",
   "metadata": {},
   "source": [
    "### 17 读取 txt 文件｜常规\n",
    "\n",
    "<br>\n",
    "\n",
    "读取当前目录下 `Titanic.txt` 文件。\n",
    "\n",
    "注意：在接下来的几种格式文件读取中，对于之前重复的参数/功能将不再整理，仅介绍读取功能。"
   ]
  },
  {
   "cell_type": "code",
   "execution_count": 83,
   "metadata": {},
   "outputs": [],
   "source": []
  },
  {
   "cell_type": "markdown",
   "metadata": {},
   "source": [
    "### 18 读取 txt 文件｜含中文\n",
    "\n",
    "<br>\n",
    "\n",
    "读取当前目录下 `TOP250.txt` 文件。"
   ]
  },
  {
   "cell_type": "code",
   "execution_count": 79,
   "metadata": {},
   "outputs": [],
   "source": []
  },
  {
   "cell_type": "markdown",
   "metadata": {},
   "source": [
    "### 19 读取 JSON 文件\n",
    "\n",
    "\n",
    "\n",
    "<br>\n",
    "\n",
    "读取当前目录下 `某基金数据.json` 文件。"
   ]
  },
  {
   "cell_type": "code",
   "execution_count": 175,
   "metadata": {},
   "outputs": [],
   "source": []
  },
  {
   "cell_type": "markdown",
   "metadata": {},
   "source": [
    "### 20 读取 HDF5 文件\n",
    "\n",
    "<br>\n",
    "\n",
    "`HDF5`是一种特殊的文件格式，常见于在大规模存储数据上\n",
    "\n",
    "关于 `pandas` 与 `hdf5` 格式文件的操作较多，下面仅学习如何读取。\n",
    "\n",
    "读取当前目录下`store_tl.h5`文件"
   ]
  },
  {
   "cell_type": "code",
   "execution_count": 120,
   "metadata": {},
   "outputs": [],
   "source": []
  },
  {
   "cell_type": "markdown",
   "metadata": {},
   "source": [
    "### 21 从剪贴板读取数据\n",
    "\n",
    "<br>\n",
    "\n",
    "打开当前目录下 `Titanic.txt` 文件，全选并复制。\n",
    "\n",
    "现在直接从剪贴板读取数据。"
   ]
  },
  {
   "cell_type": "code",
   "execution_count": 102,
   "metadata": {},
   "outputs": [],
   "source": []
  },
  {
   "cell_type": "markdown",
   "metadata": {},
   "source": [
    "### 22 从 SQL 读取数据\n",
    "\n",
    "<br>\n",
    "\n",
    "有时我们需要从 `SQL` 中读取数据，如果先将数据导出再`pandas`读取并不是一个合适的选择。\n",
    "\n",
    "在 `pandas` 中支持直接从 `sql` 中查询并读取。\n",
    "\n",
    "为了方便统一操作，请先执行下面的代码创建数据。"
   ]
  },
  {
   "cell_type": "code",
   "execution_count": 121,
   "metadata": {},
   "outputs": [],
   "source": [
    "from sqlite3 import connect\n",
    "conn = connect(':memory:')\n",
    "df = pd.DataFrame(data=[[0, '10/11/12'], [1, '12/11/10']],\n",
    "                  columns=['int_column', 'date_column'])\n",
    "df.to_sql('test_data', conn)"
   ]
  },
  {
   "cell_type": "markdown",
   "metadata": {},
   "source": [
    "下面将 `SQL` 语句 `SELECT int_column, date_column FROM test_data` 转换为 `DataFrame`"
   ]
  },
  {
   "cell_type": "code",
   "execution_count": 123,
   "metadata": {},
   "outputs": [
    {
     "data": {
      "text/html": [
       "<div>\n",
       "<style scoped>\n",
       "    .dataframe tbody tr th:only-of-type {\n",
       "        vertical-align: middle;\n",
       "    }\n",
       "\n",
       "    .dataframe tbody tr th {\n",
       "        vertical-align: top;\n",
       "    }\n",
       "\n",
       "    .dataframe thead th {\n",
       "        text-align: right;\n",
       "    }\n",
       "</style>\n",
       "<table border=\"1\" class=\"dataframe\">\n",
       "  <thead>\n",
       "    <tr style=\"text-align: right;\">\n",
       "      <th></th>\n",
       "      <th>int_column</th>\n",
       "      <th>date_column</th>\n",
       "    </tr>\n",
       "  </thead>\n",
       "  <tbody>\n",
       "    <tr>\n",
       "      <th>0</th>\n",
       "      <td>0</td>\n",
       "      <td>10/11/12</td>\n",
       "    </tr>\n",
       "    <tr>\n",
       "      <th>1</th>\n",
       "      <td>1</td>\n",
       "      <td>12/11/10</td>\n",
       "    </tr>\n",
       "  </tbody>\n",
       "</table>\n",
       "</div>"
      ],
      "text/plain": [
       "   int_column date_column\n",
       "0           0    10/11/12\n",
       "1           1    12/11/10"
      ]
     },
     "execution_count": 123,
     "metadata": {},
     "output_type": "execute_result"
    }
   ],
   "source": []
  },
  {
   "cell_type": "markdown",
   "metadata": {},
   "source": [
    "### 23 从网页读取数据\n",
    "\n",
    "<br>\n",
    "\n",
    "直接从东京奥运会官网读取奖牌榜数据。\n",
    "\n",
    "目标网站地址为 `https://olympics.com/tokyo-2020/olympic-games/zh/results/all-sports/medal-standings.htm`\n",
    "\n",
    "思考：什么类型的在线表格可以直接读取？"
   ]
  },
  {
   "cell_type": "code",
   "execution_count": 99,
   "metadata": {},
   "outputs": [],
   "source": []
  },
  {
   "cell_type": "markdown",
   "metadata": {},
   "source": [
    "### 24 循环读取数据\n",
    "\n",
    "<br>\n",
    "\n",
    "在本小节 `demodata` 文件夹下有多个 `Excel` 文件，要求一次性循环读取全部文件"
   ]
  },
  {
   "cell_type": "code",
   "execution_count": null,
   "metadata": {},
   "outputs": [],
   "source": []
  },
  {
   "cell_type": "markdown",
   "metadata": {},
   "source": [
    "## 1-2 数据创建\n",
    "\n",
    "<br>\n",
    "\n",
    "除了直接读取本地文件，学会直接创建数据框也很重要，常见于测试一些函数，下面是从常见数据结构创建数据框的方法整理"
   ]
  },
  {
   "cell_type": "markdown",
   "metadata": {},
   "source": [
    "### 25 从列表创建\n",
    "\n",
    "<br>\n",
    "\n",
    "将下面的 `list` 转换为 `dataframe`，并指定列名为`\"早起Python\"`"
   ]
  },
  {
   "cell_type": "code",
   "execution_count": 137,
   "metadata": {},
   "outputs": [],
   "source": [
    "l = [1,2,3,4,5]"
   ]
  },
  {
   "cell_type": "code",
   "execution_count": 139,
   "metadata": {},
   "outputs": [],
   "source": []
  },
  {
   "cell_type": "markdown",
   "metadata": {},
   "source": [
    "### 26 从列表创建｜嵌套列表\n",
    "\n",
    "<br>\n",
    "\n",
    "将下面的 `list` 转换为 `dataframe`，并指定行索引为`\"a\",\"b\"`"
   ]
  },
  {
   "cell_type": "code",
   "execution_count": 150,
   "metadata": {},
   "outputs": [],
   "source": [
    "l = [[1,2,3],[4,5,6]]"
   ]
  },
  {
   "cell_type": "code",
   "execution_count": 151,
   "metadata": {},
   "outputs": [],
   "source": []
  },
  {
   "cell_type": "markdown",
   "metadata": {},
   "source": [
    "### 27 从字典创建"
   ]
  },
  {
   "cell_type": "markdown",
   "metadata": {},
   "source": [
    "执行下方代码，并将字典转换为`dataframe`"
   ]
  },
  {
   "cell_type": "code",
   "execution_count": 124,
   "metadata": {},
   "outputs": [],
   "source": [
    "d = {\n",
    "    \"one\": pd.Series([1.0, 2.0, 3.0], index=[\"a\", \"b\", \"c\"]),\n",
    "    \"two\": pd.Series([1.0, 2.0, 3.0, 4.0], index=[\"a\", \"b\", \"c\", \"d\"]) }"
   ]
  },
  {
   "cell_type": "code",
   "execution_count": 128,
   "metadata": {},
   "outputs": [],
   "source": []
  },
  {
   "cell_type": "markdown",
   "metadata": {},
   "source": [
    "### 28 从字典创建｜指定索引\n",
    "\n",
    "<br>\n",
    "\n",
    "还是上一题的字典`d`，将其转换为`dataframe`并指定索引顺序为 `d、b、a`"
   ]
  },
  {
   "cell_type": "code",
   "execution_count": null,
   "metadata": {},
   "outputs": [],
   "source": []
  },
  {
   "cell_type": "markdown",
   "metadata": {},
   "source": [
    "### 29 从字典创建｜指定列名\n",
    "\n",
    "<br>\n",
    "\n",
    "还是上一题的字典`d`，将其转换为`dataframe`并指定索引顺序为 `d、b、a`，列名为`\"two\", \"three\"`"
   ]
  },
  {
   "cell_type": "code",
   "execution_count": 144,
   "metadata": {},
   "outputs": [],
   "source": []
  },
  {
   "cell_type": "markdown",
   "metadata": {},
   "source": [
    "### 30 从字典创建｜字典列表\n",
    "<br>\n",
    "\n",
    "将下方列表型字典转换为`dataframe`\n",
    "\n",
    "思考：如何指定行/列索引？"
   ]
  },
  {
   "cell_type": "code",
   "execution_count": null,
   "metadata": {},
   "outputs": [],
   "source": [
    "d = [{\"a\": 1, \"b\": 2}, {\"a\": 5, \"b\": 10, \"c\": 20}]"
   ]
  },
  {
   "cell_type": "code",
   "execution_count": null,
   "metadata": {},
   "outputs": [],
   "source": []
  },
  {
   "cell_type": "markdown",
   "metadata": {},
   "source": [
    "### 31 从集合创建\n",
    "\n",
    "<br>\n",
    "\n",
    "将下面的元组转换为 dataframe 且行列索引均为 `1,2,3,4`"
   ]
  },
  {
   "cell_type": "code",
   "execution_count": 163,
   "metadata": {},
   "outputs": [],
   "source": [
    "t =((1,0,0,0,),(2,3,0,0,),(4,5,6,0,),(7,8,9,10,))"
   ]
  },
  {
   "cell_type": "code",
   "execution_count": 164,
   "metadata": {},
   "outputs": [],
   "source": []
  },
  {
   "cell_type": "markdown",
   "metadata": {},
   "source": [
    "## 1-3 数据存储"
   ]
  },
  {
   "cell_type": "markdown",
   "metadata": {},
   "source": [
    "### 32 保存为 CSV\n",
    "\n",
    "<br>\n",
    "\n",
    "将第三题读取到的数据保存为 `csv` 格式至当前目录下（文件名任意）"
   ]
  },
  {
   "cell_type": "code",
   "execution_count": 184,
   "metadata": {},
   "outputs": [],
   "source": [
    "data = pd.read_csv(\"某招聘网站数据.csv\",nrows = 20)"
   ]
  },
  {
   "cell_type": "code",
   "execution_count": 183,
   "metadata": {},
   "outputs": [],
   "source": []
  },
  {
   "cell_type": "markdown",
   "metadata": {},
   "source": [
    "### 33 保存为 CSV｜指定列\n",
    "\n",
    "<br>\n",
    "\n",
    "将第三题读取到的数据保存为 `csv` 格式至当前目录下（文件名任意），且只保留`positionName、salary`两列"
   ]
  },
  {
   "cell_type": "code",
   "execution_count": null,
   "metadata": {},
   "outputs": [],
   "source": []
  },
  {
   "cell_type": "markdown",
   "metadata": {},
   "source": [
    "### 34 保存为 CSV｜取消索引\n",
    "\n",
    "<br>\n",
    "\n",
    "将第三题读取到的数据保存为 `csv` 格式至当前目录下（文件名任意），且取消每一行的索引"
   ]
  },
  {
   "cell_type": "code",
   "execution_count": 185,
   "metadata": {},
   "outputs": [],
   "source": []
  },
  {
   "cell_type": "markdown",
   "metadata": {},
   "source": [
    "### 35 保存为 CSV｜标记缺失值\n",
    "\n",
    "<br>\n",
    "\n",
    "在上一题的基础上，在保存的同时，将缺失值标记为`'数据缺失'`"
   ]
  },
  {
   "cell_type": "code",
   "execution_count": 186,
   "metadata": {},
   "outputs": [],
   "source": []
  },
  {
   "cell_type": "markdown",
   "metadata": {},
   "source": [
    "### 36 保存为CSV｜压缩\n",
    "\n",
    "<br>\n",
    "\n",
    "将上一题的数据保存至 `zip` 文件，解压后出现 `out.csv`"
   ]
  },
  {
   "cell_type": "code",
   "execution_count": 192,
   "metadata": {},
   "outputs": [],
   "source": []
  },
  {
   "cell_type": "markdown",
   "metadata": {},
   "source": [
    "### 37 保存为 Excel \n",
    "\n",
    "<br>\n",
    "\n",
    "将第三题读取到的数据保存为 `xlsx` 格式至当前目录下（文件名任意）"
   ]
  },
  {
   "cell_type": "code",
   "execution_count": null,
   "metadata": {},
   "outputs": [],
   "source": []
  },
  {
   "cell_type": "markdown",
   "metadata": {},
   "source": [
    "### 38 保存为 JSON\n",
    "\n",
    "将之前的数据保存为 `json` 格式至当前目录下（文件名任意）"
   ]
  },
  {
   "cell_type": "code",
   "execution_count": null,
   "metadata": {},
   "outputs": [],
   "source": []
  },
  {
   "cell_type": "markdown",
   "metadata": {},
   "source": [
    "### 39 保存为 Markdown"
   ]
  },
  {
   "cell_type": "markdown",
   "metadata": {},
   "source": [
    "将之前数据转换为 `markdown` 形式表格，这样可以直接复制进 `.md` 文件中使用"
   ]
  },
  {
   "cell_type": "code",
   "execution_count": null,
   "metadata": {},
   "outputs": [],
   "source": []
  },
  {
   "cell_type": "markdown",
   "metadata": {},
   "source": [
    "### 40 保存为 Html\n",
    "\n",
    "将之前的数据保存为 `html` 格式至当前目录下（文件名任意），并进行如下设置\n",
    "- 取消行索引\n",
    "- 标题居中对齐\n",
    "- 列宽100"
   ]
  },
  {
   "cell_type": "code",
   "execution_count": null,
   "metadata": {
    "pycharm": {
     "name": "#%%\n"
    }
   },
   "outputs": [],
   "source": []
  }
 ],
 "metadata": {
  "kernelspec": {
   "display_name": "Python 3",
   "language": "python",
   "name": "python3"
  },
  "language_info": {
   "codemirror_mode": {
    "name": "ipython",
    "version": 3
   },
   "file_extension": ".py",
   "mimetype": "text/x-python",
   "name": "python",
   "nbconvert_exporter": "python",
   "pygments_lexer": "ipython3",
   "version": "3.9.1"
  },
  "pycharm": {
   "stem_cell": {
    "cell_type": "raw",
    "metadata": {
     "collapsed": false
    },
    "source": [
     "\n"
    ]
   }
  },
  "toc": {
   "base_numbering": 1,
   "nav_menu": {},
   "number_sections": false,
   "sideBar": true,
   "skip_h1_title": false,
   "title_cell": "Table of Contents",
   "title_sidebar": "Contents",
   "toc_cell": false,
   "toc_position": {
    "height": "calc(100% - 180px)",
    "left": "10px",
    "top": "150px",
    "width": "384px"
   },
   "toc_section_display": true,
   "toc_window_display": true
  }
 },
 "nbformat": 4,
 "nbformat_minor": 4
}